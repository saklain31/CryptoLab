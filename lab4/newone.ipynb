{
 "cells": [
  {
   "cell_type": "code",
   "execution_count": 9,
   "metadata": {},
   "outputs": [],
   "source": [
    "import binascii\n",
    "\n",
    "def textTobin(st):\n",
    "    b = bytearray()\n",
    "    b.extend(map(ord, st))\n",
    "    return bin(int(binascii.hexlify(b),16))[2:].zfill(16)\n",
    "\n",
    "\n",
    "\n",
    "def bxor(a1,a2):\n",
    "    #ln=len(a1)\n",
    "    #a1 = bin(int(a1, 16))[2:].zfill(ln*4)\n",
    "    #a2 = bin(int(a2, 16))[2:].zfill(ln*4)\n",
    "    y = int(a1,2) ^ int(a2,2)\n",
    "    return y#hex(int(('{0:b}'.format(y)).zfill(ln*4), 2))[2:].zfill(ln)"
   ]
  },
  {
   "cell_type": "code",
   "execution_count": 2,
   "metadata": {
    "scrolled": true
   },
   "outputs": [
    {
     "name": "stdout",
     "output_type": "stream",
     "text": [
      "0000000000000000\n",
      "\n",
      "Enter key: oa\n"
     ]
    }
   ],
   "source": [
    "import sys\n",
    "from BitVector import * #(A)\n",
    "\n",
    "\n",
    "PassPhrase = \"Hopes and dreams of a million years\" #(C)\n",
    "BLOCKSIZE = 16 #(D)\n",
    "numbytes = BLOCKSIZE // 8 #(E)\n",
    "\n",
    "# Reduce the passphrase to a bit array of size BLOCKSIZE:\n",
    "bv_iv = BitVector(bitlist = [0]*BLOCKSIZE) #(F)\n",
    "print(bv_iv)\n",
    "#print(len(PassPhrase) // numbytes)\n",
    "\n",
    "for i in range(0,len(PassPhrase) // numbytes): #(G)\n",
    "    textstr = PassPhrase[i*numbytes:(i+1)*numbytes] #(H)\n",
    "    #print(\"tx\",textTobin(textstr))\n",
    "    bv_iv ^= BitVector( textstring = textstr ) #(I)\n",
    "    #print(\"bv\",bv_iv)\n",
    "\n",
    "    \n",
    "# Get key from user:\n",
    "key = None\n",
    "if sys.version_info[0] == 3: #(J)\n",
    "    key = input(\"\\nEnter key: \") #(K)\n",
    "else:\n",
    "    key = raw_input(\"\\nEnter key: \") #(L)\n",
    "key = key.strip() #(M)\n",
    "\n",
    "\n",
    "# Reduce the key to a bit array of size BLOCKSIZE:\n",
    "key_bv = BitVector(bitlist = [0]*BLOCKSIZE) #(N)\n",
    "for i in range(0,len(key) // numbytes): #(O)\n",
    "    keyblock = key[i*numbytes:(i+1)*numbytes] #(P)\n",
    "    key_bv ^= BitVector( textstring = keyblock ) #(Q)\n",
    "\n",
    "# Create a bitvector for storing the ciphertext bit array:\n",
    "msg_encrypted_bv = BitVector( size = 0 ) #(R)\n",
    "\n",
    "# Carry out differential XORing of bit blocks and encryption:\n",
    "previous_block = bv_iv #(S)\n",
    "bv = BitVector( filename = \"inText.txt\" ) #(T)\n",
    "while (bv.more_to_read): #(U)\n",
    "    bv_read = bv.read_bits_from_file(BLOCKSIZE) #(V)\n",
    "    if len(bv_read) < BLOCKSIZE: #(W)\n",
    "        bv_read += BitVector(size = (BLOCKSIZE - len(bv_read))) #(X)\n",
    "    bv_read ^= key_bv #(Y)\n",
    "    bv_read ^= previous_block #(Z)\n",
    "    previous_block = bv_read.deep_copy() #(a)\n",
    "    msg_encrypted_bv += bv_read #(b)\n",
    "\n",
    "    \n",
    "# Convert the encrypted bitvector into a hex string:\n",
    "outputhex = msg_encrypted_bv.get_hex_string_from_bitvector() #(c)\n",
    "\n",
    "# Write ciphertext bitvector to the output file:\n",
    "FILEOUT = open(\"inDecryptText.txt\", 'w') #(d)\n",
    "FILEOUT.write(outputhex) #(e)\n",
    "FILEOUT.close()\n"
   ]
  },
  {
   "cell_type": "code",
   "execution_count": 6,
   "metadata": {},
   "outputs": [
    {
     "name": "stdout",
     "output_type": "stream",
     "text": [
      "0000000000000000\n",
      "<class 'str'>\n",
      "\n",
      "Enter key: oa\n",
      "<class 'str'>\n"
     ]
    }
   ],
   "source": [
    "\n",
    "import sys\n",
    "from BitVector import * #(A)\n",
    "\n",
    "PassPhrase = \"Hopes and dreams of a million years\" #(C)\n",
    "BLOCKSIZE = 16\n",
    "\n",
    "\n",
    "numbytes = BLOCKSIZE // 8 #(E)\n",
    "# Reduce the passphrase to a bit array of size BLOCKSIZE:\n",
    "bv_iv = BitVector(bitlist = [0]*BLOCKSIZE) #(F)\n",
    "bv_iv2 = [0]*BLOCKSIZE\n",
    "bv_iv2 = ''.join(str(i) for i in bv_iv2)\n",
    "\n",
    "print(bv_iv2)\n",
    "print(type(bv_iv2))\n",
    "\n",
    "\n",
    "\n",
    "\n",
    "for i in range(0,len(PassPhrase) // numbytes): #(G)\n",
    "    textstr = PassPhrase[i*numbytes:(i+1)*numbytes] #(H)\n",
    "    bv_iv ^= BitVector( textstring = textstr ) #(I)\n",
    "    \n",
    "    \n",
    "    \n",
    "    \n",
    "    \n",
    "# Create a bitvector from the ciphertext hex string:\n",
    "FILEIN = open(\"inDecryptText.txt\") #(J)\n",
    "encrypted_bv = BitVector( hexstring = FILEIN.read() ) #(K)\n",
    "#Get key from user:\n",
    "key = None\n",
    "if sys.version_info[0] == 3: #(L)\n",
    "    key = input(\"\\nEnter key: \") #(M)\n",
    "else:\n",
    "    key = raw_input(\"\\nEnter key: \") #(N)\n",
    "key = key.strip() #(O)\n",
    "print(type(key))\n",
    "\n",
    "# import itertools\n",
    "# lst = list(itertools.product([0, 1], repeat=16))\n",
    "# for i in range(len(lst)):\n",
    "#     ls = list(lst[i])\n",
    "#     st = ''.join(str(i) for i in ls)\n",
    "#     n = int(st, 2)\n",
    "#     tempkey = n.to_bytes((n.bit_length() + 7) // 8, 'big')\n",
    "#     if isValid(tempkey):\n",
    "#         tempkey= tempkey.decode(\"utf-8\")\n",
    "#         #print(tempkey)\n",
    "#         #tempkey= tempkey.decode(\"utf-8\")\n",
    "#         if isReadable(tempkey):\n",
    "#             #print(i,tempkey)\n",
    "#             key=tempkey\n",
    "\n",
    "\n",
    "#             # Reduce the key to a bit array of size BLOCKSIZE:\n",
    "#             key_bv = BitVector(bitlist = [0]*BLOCKSIZE) #(P)\n",
    "#             #print(key_bv)\n",
    "#             for i in range(0,len(key) // numbytes): #(Q)\n",
    "#                 keyblock = key[i*numbytes:(i+1)*numbytes] #(R)\n",
    "#                 key_bv ^= BitVector( textstring = keyblock ) #(S)\n",
    "#             #print(key_bv)\n",
    "#             # Create a bitvector for storing the decrypted plaintext bit array:\n",
    "#             msg_decrypted_bv = BitVector( size = 0 ) #(T)\n",
    "            \n",
    "            \n",
    "            \n",
    "            \n",
    "#             # Carry out differential XORing of bit blocks and decryption:\n",
    "#             previous_decrypted_block = bv_iv #(U)\n",
    "#             for i in range(0, len(encrypted_bv) // BLOCKSIZE): #(V)\n",
    "#                 bv = encrypted_bv[i*BLOCKSIZE:(i+1)*BLOCKSIZE] #(W)\n",
    "#                 temp = bv.deep_copy() #(X)\n",
    "#                 bv ^= previous_decrypted_block #(Y)\n",
    "#                 previous_decrypted_block = temp #(Z)\n",
    "#                 bv ^= key_bv #(a)\n",
    "#                 msg_decrypted_bv += bv #(b)\n",
    "                \n",
    "                \n",
    "                \n",
    "                \n",
    "#             # Extract plaintext from the decrypted bitvector:\n",
    "#             outputtext = msg_decrypted_bv.get_text_from_bitvector() #(c)\n",
    "\n",
    "#             if isReadable(outputtext[:-1]):\n",
    "#                 print(outputtext)\n",
    "#             # Write plaintext to the output file:\n",
    "#             #         FILEOUT = open(\"outDecryptText.txt\", 'w') #(d)\n",
    "#             #         FILEOUT.write(outputtext) #(e)\n",
    "#             #         FILEOUT.close()\n"
   ]
  },
  {
   "cell_type": "code",
   "execution_count": 1,
   "metadata": {},
   "outputs": [
    {
     "name": "stdout",
     "output_type": "stream",
     "text": [
      "jkggkjg\n"
     ]
    },
    {
     "data": {
      "text/plain": [
       "True"
      ]
     },
     "execution_count": 1,
     "metadata": {},
     "output_type": "execute_result"
    }
   ],
   "source": [
    "import re\n",
    "def isReadable(st): \n",
    "    return bool(re.search('^[a-zA-Z0-9\\., \\'\\\"\\-_\\:\\(\\)]+$', st))\n",
    "\n",
    "def isValid(st):\n",
    "    if str(\"\\\\x\") in str(st):\n",
    "        return False\n",
    "    else:\n",
    "        return True\n",
    "\n",
    "text = input()\n",
    "isReadable(text)"
   ]
  },
  {
   "cell_type": "code",
   "execution_count": null,
   "metadata": {},
   "outputs": [],
   "source": [
    "import itertools\n",
    "lst = list(itertools.product([0, 1], repeat=16))\n",
    "for i in range(len(lst)):\n",
    "    ls = list(lst[i])\n",
    "    st = ''.join(str(i) for i in ls)\n",
    "    n = int(st, 2)\n",
    "    tempkey = n.to_bytes((n.bit_length() + 7) // 8, 'big')\n",
    "    if isValid(tempkey):\n",
    "        tempkey= tempkey.decode(\"utf-8\")\n",
    "        print(tempkey)\n",
    "\n"
   ]
  },
  {
   "cell_type": "code",
   "execution_count": null,
   "metadata": {},
   "outputs": [],
   "source": []
  },
  {
   "cell_type": "code",
   "execution_count": 40,
   "metadata": {},
   "outputs": [
    {
     "ename": "UnicodeDecodeError",
     "evalue": "'utf-8' codec can't decode byte 0xff in position 0: invalid start byte",
     "output_type": "error",
     "traceback": [
      "\u001b[0;31m---------------------------------------------------------------------------\u001b[0m",
      "\u001b[0;31mUnicodeDecodeError\u001b[0m                        Traceback (most recent call last)",
      "\u001b[0;32m<ipython-input-40-c893bd03b748>\u001b[0m in \u001b[0;36m<module>\u001b[0;34m()\u001b[0m\n\u001b[1;32m      3\u001b[0m \u001b[0mst\u001b[0m \u001b[0;34m=\u001b[0m \u001b[0;34m''\u001b[0m\u001b[0;34m.\u001b[0m\u001b[0mjoin\u001b[0m\u001b[0;34m(\u001b[0m\u001b[0mstr\u001b[0m\u001b[0;34m(\u001b[0m\u001b[0mi\u001b[0m\u001b[0;34m)\u001b[0m \u001b[0;32mfor\u001b[0m \u001b[0mi\u001b[0m \u001b[0;32min\u001b[0m \u001b[0mls\u001b[0m\u001b[0;34m)\u001b[0m\u001b[0;34m\u001b[0m\u001b[0m\n\u001b[1;32m      4\u001b[0m \u001b[0mn\u001b[0m \u001b[0;34m=\u001b[0m \u001b[0mint\u001b[0m\u001b[0;34m(\u001b[0m\u001b[0mst\u001b[0m\u001b[0;34m,\u001b[0m \u001b[0;36m2\u001b[0m\u001b[0;34m)\u001b[0m\u001b[0;34m\u001b[0m\u001b[0m\n\u001b[0;32m----> 5\u001b[0;31m \u001b[0mn\u001b[0m\u001b[0;34m.\u001b[0m\u001b[0mto_bytes\u001b[0m\u001b[0;34m(\u001b[0m\u001b[0;34m(\u001b[0m\u001b[0mn\u001b[0m\u001b[0;34m.\u001b[0m\u001b[0mbit_length\u001b[0m\u001b[0;34m(\u001b[0m\u001b[0;34m)\u001b[0m \u001b[0;34m+\u001b[0m \u001b[0;36m7\u001b[0m\u001b[0;34m)\u001b[0m \u001b[0;34m//\u001b[0m \u001b[0;36m8\u001b[0m\u001b[0;34m,\u001b[0m \u001b[0;34m'big'\u001b[0m\u001b[0;34m)\u001b[0m\u001b[0;34m.\u001b[0m\u001b[0mdecode\u001b[0m\u001b[0;34m(\u001b[0m\u001b[0;34m)\u001b[0m\u001b[0;34m\u001b[0m\u001b[0m\n\u001b[0m",
      "\u001b[0;31mUnicodeDecodeError\u001b[0m: 'utf-8' codec can't decode byte 0xff in position 0: invalid start byte"
     ]
    }
   ],
   "source": [
    "ls = list(lst[i])\n",
    "\n",
    "st = ''.join(str(i) for i in ls)\n",
    "n = int(st, 2)\n",
    "n.to_bytes((n.bit_length() + 7) // 8, 'big').decode()\n"
   ]
  },
  {
   "cell_type": "code",
   "execution_count": null,
   "metadata": {},
   "outputs": [],
   "source": [
    "print(bin(int.from_bytes('ab'.encode(), 'big')))\n",
    "\n",
    "\n",
    "\n",
    "n = int('110000101100010', 2)\n",
    "n.to_bytes((n.bit_length() + 7) // 8, 'big').decode()\n",
    "\n",
    "print(type('110000101100010'))"
   ]
  }
 ],
 "metadata": {
  "kernelspec": {
   "display_name": "Python 3",
   "language": "python",
   "name": "python3"
  },
  "language_info": {
   "codemirror_mode": {
    "name": "ipython",
    "version": 3
   },
   "file_extension": ".py",
   "mimetype": "text/x-python",
   "name": "python",
   "nbconvert_exporter": "python",
   "pygments_lexer": "ipython3",
   "version": "3.6.5"
  }
 },
 "nbformat": 4,
 "nbformat_minor": 2
}
