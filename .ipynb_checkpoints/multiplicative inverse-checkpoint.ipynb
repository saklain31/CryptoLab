{
 "cells": [
  {
   "cell_type": "code",
   "execution_count": 1,
   "metadata": {},
   "outputs": [],
   "source": [
    "def bxor(a1,a2):\n",
    "    k = max(len(a1),len(a2))\n",
    "    if k<8:\n",
    "        k=8\n",
    "    y = int(a1,2) ^ int(a2,2)\n",
    "    return '{0:b}'.format(y).zfill(k)\n",
    "\n",
    "def mulShift(div,val): \n",
    "    for i in range(val):\n",
    "        div += \"0\"\n",
    "    return div\n",
    "\n",
    "def multiplexor(a,b,c,d,e,f):\n",
    "    y = int(a,2) ^ int(b,2) ^ int(c,2) ^ int(d,2) ^ int(e,2) ^ int(f,2) \n",
    "    return '{0:b}'.format(y).zfill(1)\n",
    "\n"
   ]
  },
  {
   "cell_type": "code",
   "execution_count": 2,
   "metadata": {},
   "outputs": [],
   "source": [
    "def findmod(a,b):\n",
    "    while len(bin(a)) >= len(bin(b)):\n",
    "        sft = len(bin(a))-len(bin(b))\n",
    "        k = b << sft\n",
    "        a = a^k\n",
    "    return '{0:b}'.format(a).zfill(15)\n",
    "    \n"
   ]
  },
  {
   "cell_type": "code",
   "execution_count": 3,
   "metadata": {},
   "outputs": [],
   "source": [
    "def multi(a1,a2):\n",
    "    a1 = a1.zfill(8)\n",
    "    ln = len(a2)\n",
    "    st = \"0\".zfill(8)\n",
    "    \n",
    "    for i in range(ln):\n",
    "        if(a2[ln-i-1]==\"1\"):\n",
    "            temp = mulShift(a1,i)\n",
    "        else:\n",
    "            temp = mulShift(\"0\".zfill(len(a1)),i)\n",
    "        \n",
    "        st = bxor(st.zfill(max(len(st),len(temp))),temp.zfill(max(len(st),len(temp))))\n",
    "        \n",
    "    return st\n",
    "        \n",
    "        \n"
   ]
  },
  {
   "cell_type": "code",
   "execution_count": 4,
   "metadata": {},
   "outputs": [],
   "source": [
    "def mulInv(val,d):\n",
    "    val = bin(int(val, 16))[2:].zfill(8)\n",
    "    d = bin(int(d, 16))[2:]\n",
    "    \n",
    "    #print(val,d)\n",
    "    \n",
    "    if val== \"0\".zfill(8):\n",
    "        return 0\n",
    "    \n",
    "    for i in range(256):\n",
    "        if int(findmod(int(multi(val,'{0:b}'.format(i)),2),int(d,2)),2)==1:\n",
    "            return i\n",
    "        "
   ]
  },
  {
   "cell_type": "code",
   "execution_count": 5,
   "metadata": {},
   "outputs": [],
   "source": [
    "# for i in range(len(hexlist)):\n",
    "#     k=mulInv(hexlist[i],\"11B\")\n",
    "#     print(i,k)"
   ]
  },
  {
   "cell_type": "code",
   "execution_count": 15,
   "metadata": {},
   "outputs": [
    {
     "name": "stdout",
     "output_type": "stream",
     "text": [
      "['63', '7c', '77', '7b', 'f2', '6b', '6f', 'c5', '30', '01', '67', '2b', 'fe', 'd7', 'ab', '76']\n",
      "['ca', '82', 'c9', '7d', 'fa', '59', '47', 'f0', 'ad', 'd4', 'a2', 'af', '9c', 'a4', '72', 'c0']\n",
      "['b7', 'fd', '93', '26', '36', '3f', 'f7', 'cc', '34', 'a5', 'e5', 'f1', '71', 'd8', '31', '15']\n",
      "['04', 'c7', '23', 'c3', '18', '96', '05', '9a', '07', '12', '80', 'e2', 'eb', '27', 'b2', '75']\n",
      "['09', '83', '2c', '1a', '1b', '6e', '5a', 'a0', '52', '3b', 'd6', 'b3', '29', 'e3', '2f', '84']\n",
      "['53', 'd1', '00', 'ed', '20', 'fc', 'b1', '5b', '6a', 'cb', 'be', '39', '4a', '4c', '58', 'cf']\n",
      "['d0', 'ef', 'aa', 'fb', '43', '4d', '33', '85', '45', 'f9', '02', '7f', '50', '3c', '9f', 'a8']\n",
      "['51', 'a3', '40', '8f', '92', '9d', '38', 'f5', 'bc', 'b6', 'da', '21', '10', 'ff', 'f3', 'd2']\n",
      "['cd', '0c', '13', 'ec', '5f', '97', '44', '17', 'c4', 'a7', '7e', '3d', '64', '5d', '19', '73']\n",
      "['60', '81', '4f', 'dc', '22', '2a', '90', '88', '46', 'ee', 'b8', '14', 'de', '5e', '0b', 'db']\n",
      "['e0', '32', '3a', '0a', '49', '06', '24', '5c', 'c2', 'd3', 'ac', '62', '91', '95', 'e4', '79']\n",
      "['e7', 'c8', '37', '6d', '8d', 'd5', '4e', 'a9', '6c', '56', 'f4', 'ea', '65', '7a', 'ae', '08']\n",
      "['ba', '78', '25', '2e', '1c', 'a6', 'b4', 'c6', 'e8', 'dd', '74', '1f', '4b', 'bd', '8b', '8a']\n",
      "['70', '3e', 'b5', '66', '48', '03', 'f6', '0e', '61', '35', '57', 'b9', '86', 'c1', '1d', '9e']\n",
      "['e1', 'f8', '98', '11', '69', 'd9', '8e', '94', '9b', '1e', '87', 'e9', 'ce', '55', '28', 'df']\n",
      "['8c', 'a1', '89', '0d', 'bf', 'e6', '42', '68', '41', '99', '2d', '0f', 'b0', '54', 'bb', '16']\n"
     ]
    }
   ],
   "source": [
    "c = ['1','1','0','0','0','1','1','0']\n",
    "hexlist = [hex(x)[2:] for x in range(256)]\n",
    "invlist = []\n",
    "\n",
    "for i in range(len(hexlist)):\n",
    "    k=mulInv(hexlist[i],\"11B\")\n",
    "    #print(i,k)\n",
    "    m = list(bin(k)[2:].zfill(8))\n",
    "    m = m[::-1]\n",
    "    #print(m)\n",
    "    temp = []\n",
    "    for j in range(8):\n",
    "        temp.append(multiplexor(m[j],m[(j+4)%8],m[(j+5)%8],m[(j+6)%8],m[(j+7)%8],c[j]))\n",
    "        \n",
    "    #print((temp))\n",
    "    #invlist.append(int(''.join(temp)[::-1], 2))\n",
    "    invlist.append(hex(int(''.join(temp)[::-1], 2))[2:].zfill(2))\n",
    "    temp = []\n",
    "    \n",
    "\n",
    "\n",
    "temp=[]\n",
    "sbox = []\n",
    "\n",
    "for k in range(256):\n",
    "    temp.append(invlist[k])\n",
    "    if k%16==15:\n",
    "        sbox.append(temp)\n",
    "        temp = []\n",
    "\n",
    "        \n",
    "        \n",
    "for i in range(16):\n",
    "    print(sbox[i])\n",
    "    "
   ]
  },
  {
   "cell_type": "code",
   "execution_count": null,
   "metadata": {},
   "outputs": [],
   "source": []
  },
  {
   "cell_type": "code",
   "execution_count": null,
   "metadata": {},
   "outputs": [],
   "source": []
  },
  {
   "cell_type": "code",
   "execution_count": null,
   "metadata": {},
   "outputs": [],
   "source": []
  },
  {
   "cell_type": "code",
   "execution_count": 17,
   "metadata": {},
   "outputs": [
    {
     "name": "stdout",
     "output_type": "stream",
     "text": [
      "Input hex:89\n"
     ]
    },
    {
     "data": {
      "text/plain": [
       "158"
      ]
     },
     "execution_count": 17,
     "metadata": {},
     "output_type": "execute_result"
    }
   ],
   "source": [
    "p = input(\"Input hex:\")\n",
    "mulInv(p,\"11B\")"
   ]
  },
  {
   "cell_type": "raw",
   "metadata": {},
   "source": []
  },
  {
   "cell_type": "code",
   "execution_count": null,
   "metadata": {},
   "outputs": [],
   "source": []
  }
 ],
 "metadata": {
  "kernelspec": {
   "display_name": "Python 3",
   "language": "python",
   "name": "python3"
  },
  "language_info": {
   "codemirror_mode": {
    "name": "ipython",
    "version": 3
   },
   "file_extension": ".py",
   "mimetype": "text/x-python",
   "name": "python",
   "nbconvert_exporter": "python",
   "pygments_lexer": "ipython3",
   "version": "3.6.5"
  }
 },
 "nbformat": 4,
 "nbformat_minor": 2
}
